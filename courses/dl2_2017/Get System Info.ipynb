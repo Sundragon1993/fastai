{
 "cells": [
  {
   "cell_type": "code",
   "execution_count": 1,
   "metadata": {},
   "outputs": [
    {
     "name": "stdout",
     "output_type": "stream",
     "text": [
      "/content/clouderizer/fast.ai/fastai/courses/dl1\r\n"
     ]
    }
   ],
   "source": [
    "!pwd"
   ]
  },
  {
   "cell_type": "code",
   "execution_count": 20,
   "metadata": {
    "scrolled": true
   },
   "outputs": [
    {
     "name": "stdout",
     "output_type": "stream",
     "text": [
      "[Unit]\r\n",
      "Description=Clouderizer Agent\r\n",
      "After=syslog.target\r\n",
      "After=network.target\r\n",
      "\r\n",
      "[Service]\r\n",
      "WorkingDirectory=/usr/share/java/clouderizer\r\n",
      "ExecStart=/usr/bin/java -jar /usr/share/java/clouderizer/clouderizer.jar #PROJECT_KEY#\r\n",
      "User=#USER#\r\n",
      "SuccessExitStatus=143\r\n",
      "StandardOutput=syslog\r\n",
      "StandardError=syslog\r\n",
      "SyslogIdentifier=clouderizer\r\n",
      "Restart=on-failure\r\n",
      "EnvironmentFile=#ENV_FILE#\r\n",
      "\r\n",
      "[Install]\r\n",
      "WantedBy=multi-user.target\r\n"
     ]
    }
   ],
   "source": [
    "!cat /content/clouderizer.service"
   ]
  },
  {
   "cell_type": "code",
   "execution_count": 21,
   "metadata": {},
   "outputs": [
    {
     "name": "stdout",
     "output_type": "stream",
     "text": [
      "USER=$(whoami)\r\n",
      "\r\n",
      "if cat /proc/version | grep chrome-bot\r\n",
      "then\r\n",
      "    COLAB=\"True\"\r\n",
      "fi\r\n",
      "\r\n",
      "if [ \"$COLAB\" != \"True\" ]\r\n",
      "then\r\n",
      "ALL_USERS=$(awk -F'[/:]' '{if ($3 >= 1000 && $3 != 65534) print $1}' /etc/passwd)\r\n",
      "#taking first user from the list of users capabile of logging in\r\n",
      "MY_USER=$(echo $ALL_USERS | awk '{print $1}')\r\n",
      "if [ \"$MY_USER\" == \"\" ]; then\r\n",
      "    echo System not ready yet\r\n",
      "    sudo apt-get --assume-yes install \"at\";\r\n",
      "    at now + 1 minutes <<< \"su -c './clouderizer_init.sh'\"\r\n",
      "    exit 0\r\n",
      "fi\r\n",
      "\r\n",
      "if [ \"$USER\" == \"root\" ]; then\r\n",
      "  echo Running as root\r\n",
      "  if id $MY_USER >/dev/null 2>&1; then\r\n",
      "    echo \"$MY_USER exists, launching again as $MY_USER\"\r\n",
      "    #move yourself to tmp\r\n",
      "    mv clouderizer_init.sh /tmp/\r\n",
      "    sudo chown $MY_USER:$MY_USER /tmp/clouderizer_init.sh\r\n",
      "    #sudo chmod go-w /tmp/clouderizer_init.sh\r\n",
      "    #sudo chmod go+rX /tmp/clouderizer_init.sh \r\n",
      "    su -c \"bash /tmp/clouderizer_init.sh\" -l $MY_USER\r\n",
      "    exit 0\r\n",
      "  else\r\n",
      "    echo \"$MY_USER does not exist :(, lets continue...\"\r\n",
      "  fi\r\n",
      "else \r\n",
      "  echo \"Running as $MY_USER (not root), lets continue...\"\r\n",
      "fi\r\n",
      "\r\n",
      "fi #COLAB == True\r\n",
      "\r\n",
      "send_status() {\r\n",
      "    wget --post-data \"projectkey=5NKjqduJ&status=\\\"$1\\\"\" $BASE_URL/api/project/updatestatus &> /dev/null\r\n",
      "}\r\n",
      "\r\n",
      "echo Starting Clouderizer...\r\n",
      "echo \"If you are running clouderizer for first time on this machine, it might take some time (~20 mins) to install all pre-requisite frameworks.\"\r\n",
      "\r\n",
      "BASE_URL=\"https://console.clouderizer.com\"\r\n",
      "#BASE_URL=\"http://192.168.1.5:1337\"\r\n",
      "#USER=\"$(whoami)\"\r\n",
      "#wget -NS --content-disposition 'https://console.clouderizer.com/givemeinitjar'\r\n",
      "HOME_DIR=$(getent passwd \"$USER\" | cut -d: -f6)\r\n",
      "\r\n",
      "if [ \"$COLAB\" == \"True\" ]\r\n",
      "then\r\n",
      "HOME_DIR=\"/content\"\r\n",
      "fi\r\n",
      "\r\n",
      "cd $HOME_DIR\r\n",
      "\r\n",
      "send_status \"Downloading setup\"\r\n",
      "wget -q -NS --content-disposition $BASE_URL\"/givemeinitjar\" &> /dev/null\r\n",
      "wget -q -NS --content-disposition $BASE_URL\"/givemeinstallservice\" &> /dev/null\r\n",
      "wget -q -NS --content-disposition $BASE_URL\"/givemeserviceconf\" &> /dev/null\r\n",
      "\r\n",
      "\r\n",
      "send_status \"Installing apt packages\"\r\n",
      "declare -a aptpackages=(\"default-jre\" \"openssh-server\" \"tmux\" \"autossh\" \"bzip2\" \"git\" \"unzip\" \"curl\" );\r\n",
      "if [ \"$COLAB\" != \"True\" ]\r\n",
      "then\r\n",
      "sudo apt-get --assume-yes update\r\n",
      "else\r\n",
      "apt-get --assume-yes update\r\n",
      "fi\r\n",
      "\r\n",
      "for i in \"${aptpackages[@]}\"; do\r\n",
      "     if ! dpkg-query -W -f='${Status}' $i 2>/dev/null | grep -q \"ok installed\"; then\r\n",
      "        echo \"$i is not installed, installing...\";\r\n",
      "        if [ \"$COLAB\" != \"True\" ]\r\n",
      "        then\r\n",
      "            sudo apt-get --assume-yes install \"$i\";\r\n",
      "        else\r\n",
      "            apt-get --assume-yes install \"$i\";\r\n",
      "        fi  \r\n",
      "    else\r\n",
      "        echo \"The $i package has already been installed.\";\r\n",
      "    fi\r\n",
      "done\r\n",
      "\r\n",
      "#install rclone\r\n",
      "if [ \"$COLAB\" != \"True\" ]\r\n",
      "then\r\n",
      "    curl https://rclone.org/install.sh | sudo bash\r\n",
      "else\r\n",
      "    curl https://rclone.org/install.sh | bash\r\n",
      "fi \r\n",
      "wget -q -NS --content-disposition $BASE_URL\"/givemedrivemagic/5NKjqduJ\" &> /dev/null\r\n",
      "mkdir -p ./.config/rclone\r\n",
      "mv rclone.conf ./.config/rclone/\r\n",
      "#done rclone setup\r\n",
      "\r\n",
      "#GPU_SETUP#\r\n",
      "\r\n",
      "#FORCE_COLAB_ANACONDA#\r\n",
      "\r\n",
      "if [ \"$COLAB\" != \"True\" -o \"$FORCE_COLAB_ANACONDA\" == \"True\" ]\r\n",
      "then\r\n",
      "\r\n",
      "ANCONDA_PACKAGE=\"Anaconda3-5.0.1-Linux-x86_64.sh\"\r\n",
      "#install Anaconda Python if not already installed\r\n",
      "if ! which conda | grep conda\r\n",
      "then\r\n",
      "send_status \"Downloading Anaconda\"\r\n",
      "wget \"https://repo.continuum.io/archive/\"$ANCONDA_PACKAGE -O $ANCONDA_PACKAGE\r\n",
      "bash $ANCONDA_PACKAGE -b\r\n",
      "\r\n",
      "#no su as conda has not propagated to ubuntu user yet\r\n",
      "#conda upgrade -y --all \r\n",
      "fi\r\n",
      "\r\n",
      "export PATH=~/anaconda3/bin:$PATH\r\n",
      "conda create -y -n clouderizer pip python=3.6\r\n",
      "CONDA_ENV_NAME=clouderizer\r\n",
      "#source activate clouderizer\r\n",
      "\r\n",
      "if ! cat ~/.bash_profile | grep CONDA_ENV_NAME\r\n",
      "then\r\n",
      "echo 'PATH=$PATH:~/anaconda3/bin' >> ~/.bash_profile\r\n",
      "echo 'source activate clouderizer' >> ~/.bash_profile\r\n",
      "echo 'CONDA_ENV_NAME=clouderizer' >> ~/.bash_profile\r\n",
      "fi\r\n",
      "\r\n",
      "source ~/.bash_profile\r\n",
      "\r\n",
      "send_status \"Installing conda packages\"\r\n",
      "#install pre-requisite conda packages\r\n",
      "declare -a condapackages=(\"bcolz\");\r\n",
      "for i in \"${condapackages[@]}\"; do\r\n",
      "     if ! conda list | grep \"$i\"; then\r\n",
      "        echo \"$i is not installed, installing...\";\r\n",
      "        conda install -y \"$i\"\r\n",
      "    else\r\n",
      "        echo \"The $i package has already been installed.\";\r\n",
      "    fi\r\n",
      "done\r\n",
      "\r\n",
      "fi #COLAB == True\r\n",
      "\r\n",
      "send_status \"Installing PIP packages\"\r\n",
      "declare -a pippackages=(\"awscli\" \"jupyter\" \"matplotlib\" \"tensorflow\" \"keras\" \"environment_kernels\" );\r\n",
      "pip install --upgrade pip\r\n",
      "for i in \"${pippackages[@]}\"; do\r\n",
      "     if ! pip list | grep $i; then\r\n",
      "        echo \"$i is not installed, installing...\";\r\n",
      "        yes | pip install \"$i\" ;\r\n",
      "    else\r\n",
      "        echo \"The $i package has already been installed.\";\r\n",
      "    fi\r\n",
      "done\r\n",
      "\r\n",
      "#KAGGLESETUP#\r\n",
      "if [ \"$KAGGLE\" == \"True\" ]\r\n",
      "then\r\n",
      "send_status \"Installing Kaggle API\"\r\n",
      "yes | pip install kaggle\r\n",
      "cd ~\r\n",
      "wget -q -NS --content-disposition $BASE_URL\"/givemekagglecookie/5NKjqduJ\"\r\n",
      "mkdir ~/.kaggle\r\n",
      "mv kaggle.json ~/.kaggle\r\n",
      "chmod 600 ~/.kaggle/kaggle.json\r\n",
      "kaggle config set -n path -v ~/clouderizer/fast.ai/data\r\n",
      "send_status \"Downloading Kaggle datasets\"\r\n",
      "declare -a kaggledatasets=()\r\n",
      "for i in \"${kaggledatasets[@]}\"; do\r\n",
      "    if kaggle competitions list -s \"$i\" | grep \"$i\"\r\n",
      "    then\r\n",
      "        kaggle competitions download -c \"$i\" --force\r\n",
      "    else \r\n",
      "        kaggle datasets download -d \"$i\" --force\r\n",
      "    fi\r\n",
      "done\r\n",
      "fi\r\n",
      "\r\n",
      "send_status \"Performing startup tasks\"\r\n",
      "echo STARTING PRE-STARTUP TASK\r\n",
      "\r\n",
      "pip install https://github.com/fastai/fastai/archive/master.zip\r\n",
      "if pip -V | grep \"python 3.6\"\r\n",
      "then\r\n",
      "pip install http://download.pytorch.org/whl/cu80/torch-0.3.0.post4-cp36-cp36m-linux_x86_64.whl\r\n",
      "pip install torchvision\r\n",
      "else\r\n",
      "pip3 install http://download.pytorch.org/whl/cu80/torch-0.3.0.post4-cp36-cp36m-linux_x86_64.whl\r\n",
      "pip3 install torchvision\r\n",
      "fi\r\n",
      "\r\n",
      "#echo \\\"PATH=\\\"$PATH > ~/.clouderizer_path\r\n",
      "echo ENDING PRE-STARTUP TASK\r\n",
      "cd ~\r\n",
      "echo \"PATH=\"$PATH > ~/.clouderizer_path\r\n",
      "echo 'CONDA_ENV_NAME=clouderizer' >> ~/.clouderizer_path\r\n",
      "echo \"BASE_URL=\"$BASE_URL >> ~/.clouderizer_path\r\n",
      "\r\n",
      "if [ \"$COLAB\" == \"True\" ]\r\n",
      "then\r\n",
      "sed '$ a PermitRootLogin yes' -i /etc/ssh/sshd_config\r\n",
      "sed '$ a Banner /etc/issue.net' -i /etc/ssh/sshd_config\r\n",
      "echo \"root:clouderizer\" | chpasswd\r\n",
      "#put up the default password on login screen\r\n",
      "if ! cat /etc/issue.net | grep clouderizer\r\n",
      "then\r\n",
      "echo \"Default ssh password for this instance is clouderizer\" >> /etc/issue.net\r\n",
      "fi\r\n",
      "\r\n",
      "if ! cat /root/.profile | grep content\r\n",
      "then\r\n",
      "echo \"HOME=/content\" >> /root/.profile\r\n",
      "echo \"cd ~\" >> /root/.profile\r\n",
      "echo \"source /content/.profile\" >> /root/.profile\r\n",
      "echo \"source /content/.bashrc\" >> /root/.profile\r\n",
      "fi\r\n",
      "service ssh restart\r\n",
      "send_status \"Starting clouderizer service\"\r\n",
      "echo \"All setup done. Starting Clouderizer service now...\"\r\n",
      "echo \"******You can now login to Clouderizer console to remotely access this project.*******\"\r\n",
      "BASE_URL=$BASE_URL CLDZ_HOME=$HOME_DIR java -jar clouderizer.jar 5NKjqduJ &> /tmp/cldz.out\r\n",
      "#check for WSL\r\n",
      "elif ! cat /proc/version | grep Microsoft\r\n",
      "then\r\n",
      "#set this for all services as well\r\n",
      "sudo systemctl set-environment PATH=$PATH\r\n",
      "sudo systemctl set-environment BASE_URL=$BASE_URL\r\n",
      "\r\n",
      "sudo service ssh restart\r\n",
      "#this is for Theano error...need better place to put this later\r\n",
      "sudo systemctl set-environment MKL_THREADING_LAYER=GNU\r\n",
      "#(crontab -l 2>/dev/null; echo \"* * * * * java -jar clouderizer.jar iterate 5NKjqduJ >> cron.out\") | crontab -\r\n",
      "\r\n",
      "send_status \"Starting clouderizer service\"\r\n",
      "echo \"All setup done. Starting Clouderizer service now...\"\r\n",
      "echo \"******You can now login to Clouderizer console to remotely access this project.*******\"\r\n",
      "sudo sh ./install_clouderizer_service.sh 5NKjqduJ $USER $HOME_DIR\"/.clouderizer_path\"\r\n",
      "else \r\n",
      "send_status \"Starting clouderizer service\"\r\n",
      "sudo service ssh restart\r\n",
      "echo \"All setup done. Starting Clouderizer service now...\"\r\n",
      "echo \"******You can now login to Clouderizer console to remotely access this project.*******\"\r\n",
      "BASE_URL=$BASE_URL nohup java -jar clouderizer.jar 5NKjqduJ &> /tmp/cldz.out &\r\n",
      "fi"
     ]
    }
   ],
   "source": [
    "!cat /content/clouderizer_init.sh"
   ]
  },
  {
   "cell_type": "code",
   "execution_count": 2,
   "metadata": {},
   "outputs": [],
   "source": [
    "fastai_root_path = '~/clouderizer/fast.ai'"
   ]
  },
  {
   "cell_type": "code",
   "execution_count": 3,
   "metadata": {},
   "outputs": [
    {
     "name": "stdout",
     "output_type": "stream",
     "text": [
      "data  fastai  out\r\n"
     ]
    }
   ],
   "source": [
    "!ls {fastai_root_path}"
   ]
  },
  {
   "cell_type": "markdown",
   "metadata": {},
   "source": [
    "**Clouderizer's Workspace Data Dir:**"
   ]
  },
  {
   "cell_type": "code",
   "execution_count": 4,
   "metadata": {},
   "outputs": [
    {
     "name": "stdout",
     "output_type": "stream",
     "text": [
      "dogscats  dogscats.zip\r\n"
     ]
    }
   ],
   "source": [
    "!ls {fastai_root_path}/data"
   ]
  },
  {
   "cell_type": "markdown",
   "metadata": {},
   "source": [
    "Dataset for dl1 cours dir:"
   ]
  },
  {
   "cell_type": "code",
   "execution_count": 5,
   "metadata": {
    "scrolled": true
   },
   "outputs": [
    {
     "name": "stdout",
     "output_type": "stream",
     "text": [
      "models\tsample\ttest1  train  valid\r\n"
     ]
    }
   ],
   "source": [
    "!ls data/dogscats"
   ]
  },
  {
   "cell_type": "markdown",
   "metadata": {},
   "source": [
    "**Clouderizer's Workspace Code Dir (scripts, Jupyter Notebooks):**"
   ]
  },
  {
   "cell_type": "code",
   "execution_count": 6,
   "metadata": {},
   "outputs": [
    {
     "name": "stdout",
     "output_type": "stream",
     "text": [
      "CODE-OF-CONDUCT.md\t   environment-old.yml\tMANIFEST.in\t  setup.cfg\r\n",
      "courses\t\t\t   environment.yml\tpytest.ini\t  setup.py\r\n",
      "docs\t\t\t   fastai\t\tREADME.md\t  tests\r\n",
      "environment-cpu.yml\t   LICENSE\t\tREADME.rst\t  tutorials\r\n",
      "environment-nopytorch.yml  MANIFEST\t\trequirements.txt\r\n"
     ]
    }
   ],
   "source": [
    "!ls {fastai_root_path}/fastai"
   ]
  },
  {
   "cell_type": "markdown",
   "metadata": {},
   "source": [
    "**Clouderizer's Workspace Output Dir (project output like TensorBoard event data, etc):**"
   ]
  },
  {
   "cell_type": "code",
   "execution_count": 7,
   "metadata": {},
   "outputs": [],
   "source": [
    "!ls {fastai_root_path}/out"
   ]
  },
  {
   "cell_type": "code",
   "execution_count": 8,
   "metadata": {},
   "outputs": [
    {
     "name": "stdout",
     "output_type": "stream",
     "text": [
      "data\t     normalization_mode2.py  pytorch-tut.ipynb\tutils2.py\r\n",
      "DCGAN.ipynb  __pycache__\t     torch_utils.py\twgan-pytorch.ipynb\r\n"
     ]
    }
   ],
   "source": [
    "!ls ~/clouderizer/fast.ai/fastai/courses/dl1/dl2_2017/"
   ]
  },
  {
   "cell_type": "markdown",
   "metadata": {},
   "source": [
    "## Check System Info"
   ]
  },
  {
   "cell_type": "markdown",
   "metadata": {},
   "source": [
    "### CPU and GPU Utilization and Memory"
   ]
  },
  {
   "cell_type": "code",
   "execution_count": 2,
   "metadata": {
    "scrolled": true
   },
   "outputs": [
    {
     "name": "stdout",
     "output_type": "stream",
     "text": [
      "Collecting gputil\n",
      "  Downloading https://files.pythonhosted.org/packages/45/99/837428d26b47ebd6b66d6e1b180e98ec4a557767a93a81a02ea9d6242611/GPUtil-1.3.0.tar.gz\n",
      "Requirement already satisfied: numpy in /usr/local/lib/python3.6/dist-packages (from gputil) (1.14.3)\n",
      "Building wheels for collected packages: gputil\n",
      "  Running setup.py bdist_wheel for gputil ... \u001b[?25ldone\n",
      "\u001b[?25h  Stored in directory: /content/.cache/pip/wheels/17/0f/04/b79c006972335e35472c0b835ed52bfc0815258d409f560108\n",
      "Successfully built gputil\n",
      "\u001b[31mplotnine 0.3.0 has requirement scipy>=1.0.0, but you'll have scipy 0.19.1 which is incompatible.\u001b[0m\n",
      "\u001b[31mkaggle-cli 0.12.13 has requirement lxml<4.1,>=4.0.0, but you'll have lxml 4.2.1 which is incompatible.\u001b[0m\n",
      "Installing collected packages: gputil\n",
      "Successfully installed gputil-1.3.0\n",
      "Requirement already satisfied: psutil in /usr/local/lib/python3.6/dist-packages (5.4.5)\n",
      "\u001b[31mplotnine 0.3.0 has requirement scipy>=1.0.0, but you'll have scipy 0.19.1 which is incompatible.\u001b[0m\n",
      "\u001b[31mkaggle-cli 0.12.13 has requirement lxml<4.1,>=4.0.0, but you'll have lxml 4.2.1 which is incompatible.\u001b[0m\n",
      "Collecting humanize\n",
      "  Downloading https://files.pythonhosted.org/packages/8c/e0/e512e4ac6d091fc990bbe13f9e0378f34cf6eecd1c6c268c9e598dcf5bb9/humanize-0.5.1.tar.gz\n",
      "Building wheels for collected packages: humanize\n",
      "  Running setup.py bdist_wheel for humanize ... \u001b[?25ldone\n",
      "\u001b[?25h  Stored in directory: /content/.cache/pip/wheels/69/86/6c/f8b8593bc273ec4b0c653d3827f7482bb2001a2781a73b7f44\n",
      "Successfully built humanize\n",
      "\u001b[31mplotnine 0.3.0 has requirement scipy>=1.0.0, but you'll have scipy 0.19.1 which is incompatible.\u001b[0m\n",
      "\u001b[31mkaggle-cli 0.12.13 has requirement lxml<4.1,>=4.0.0, but you'll have lxml 4.2.1 which is incompatible.\u001b[0m\n",
      "Installing collected packages: humanize\n",
      "Successfully installed humanize-0.5.1\n"
     ]
    }
   ],
   "source": [
    "# memory footprint support libraries/code\n",
    "!ln -sf /opt/bin/nvidia-smi /usr/bin/nvidia-smi\n",
    "!pip install gputil\n",
    "!pip install psutil\n",
    "!pip install humanize"
   ]
  },
  {
   "cell_type": "code",
   "execution_count": 3,
   "metadata": {},
   "outputs": [],
   "source": [
    "import psutil\n",
    "import humanize\n",
    "import os\n",
    "import GPUtil as GPU\n",
    "\n",
    "def printm():\n",
    "    GPUs = GPU.getGPUs()\n",
    "    # XXX: only one GPU on Colab and isn’t guaranteed\n",
    "    gpu = GPUs[0]\n",
    "\n",
    "    process = psutil.Process(os.getpid())\n",
    "    print(\"Gen RAM Free: \" + humanize.naturalsize( psutil.virtual_memory().available ), \" I Proc size: \" + humanize.naturalsize( process.memory_info().rss))\n",
    "    print(\"GPU RAM Free: {0:.0f}MB | Used: {1:.0f}MB | Util {2:3.0f}% | Total {3:.0f}MB\".format(gpu.memoryFree, gpu.memoryUsed, gpu.memoryUtil*100, gpu.memoryTotal))"
   ]
  },
  {
   "cell_type": "code",
   "execution_count": 64,
   "metadata": {},
   "outputs": [
    {
     "name": "stdout",
     "output_type": "stream",
     "text": [
      "Gen RAM Free: 12.1 GB  I Proc size: 105.5 MB\n",
      "GPU RAM Free: 11438MB | Used: 1MB | Util   0% | Total 11439MB\n"
     ]
    }
   ],
   "source": [
    "printm()"
   ]
  },
  {
   "cell_type": "code",
   "execution_count": null,
   "metadata": {
    "scrolled": true
   },
   "outputs": [],
   "source": [
    "!top"
   ]
  },
  {
   "cell_type": "code",
   "execution_count": null,
   "metadata": {},
   "outputs": [],
   "source": [
    "!nvidia-smi"
   ]
  },
  {
   "cell_type": "markdown",
   "metadata": {},
   "source": [
    "### Check OS Info"
   ]
  },
  {
   "cell_type": "code",
   "execution_count": 14,
   "metadata": {},
   "outputs": [
    {
     "name": "stdout",
     "output_type": "stream",
     "text": [
      "Linux 1fcfa717dfdd 4.4.111+ #1 SMP Tue Mar 20 23:18:55 PDT 2018 x86_64 x86_64 x86_64 GNU/Linux\r\n"
     ]
    }
   ],
   "source": [
    "!uname -a"
   ]
  },
  {
   "cell_type": "code",
   "execution_count": 15,
   "metadata": {},
   "outputs": [
    {
     "name": "stdout",
     "output_type": "stream",
     "text": [
      "BASE_URL=https://console.clouderizer.com\r\n",
      "__EGL_VENDOR_LIBRARY_DIRS=/usr/lib64-nvidia/\r\n",
      "DATALAB_SETTINGS_OVERRIDES={\"datalabBasePath\": \"/tun/m/gpu-41e4fa93-b523-4a1c-a548-9ab9fb8bb813/\", \"proxyWebSockets\": \"true\", \"idleTimeoutInterval\": \"0\", \"consoleLogLevel\": \"debug\"}\r\n",
      "DATALAB_DEBUG=true\r\n",
      "MPLBACKEND=module://ipykernel.pylab.backend_inline\r\n",
      "HOSTNAME=1fcfa717dfdd\r\n",
      "LD_LIBRARY_PATH=/usr/lib64-nvidia\r\n",
      "SHLVL=2\r\n",
      "HOME=/content\r\n",
      "OLDPWD=/content\r\n",
      "PAGER=cat\r\n",
      "CLDZ_HOME=/content\r\n",
      "ENV=/root/.bashrc\r\n",
      "_=/usr/bin/java\r\n",
      "TERM=xterm-color\r\n",
      "PATH=/usr/local/bin:/usr/local/bin:/usr/local/sbin:/usr/local/bin:/usr/sbin:/usr/bin:/sbin:/bin:/tools/node/bin:/tools/google-cloud-sdk/bin\r\n",
      "CLOUDSDK_CONFIG=/content/datalab/.config\r\n",
      "GLIBCPP_FORCE_NEW=1\r\n",
      "LANG=en_US.UTF-8\r\n",
      "LD_PRELOAD=/usr/lib/x86_64-linux-gnu/libtcmalloc.so.4\r\n",
      "DEBIAN_FRONTEND=noninteractive\r\n",
      "SHELL=/bin/bash\r\n",
      "GIT_PAGER=cat\r\n",
      "DATALAB_ENV=GCE\r\n",
      "CLICOLOR=1\r\n",
      "PWD=/content/clouderizer/fast.ai/fastai/courses/dl1\r\n",
      "JPY_PARENT_PID=5080\r\n",
      "PYTHONPATH=/env/python\r\n",
      "GLIBCXX_FORCE_NEW=1\r\n"
     ]
    }
   ],
   "source": [
    "!printenv"
   ]
  },
  {
   "cell_type": "code",
   "execution_count": 16,
   "metadata": {},
   "outputs": [
    {
     "name": "stdout",
     "output_type": "stream",
     "text": [
      "/bin/sh: 1: lsb_release: not found\r\n"
     ]
    }
   ],
   "source": [
    "!lsb_release -a"
   ]
  },
  {
   "cell_type": "code",
   "execution_count": 36,
   "metadata": {},
   "outputs": [],
   "source": [
    "!ls dl2_2017/wgan_samples"
   ]
  },
  {
   "cell_type": "code",
   "execution_count": 46,
   "metadata": {},
   "outputs": [
    {
     "name": "stdout",
     "output_type": "stream",
     "text": [
      "torch                             0.3.0.post4\r\n",
      "torchtext                         0.2.3      \r\n",
      "torchvision                       0.2.1      \r\n"
     ]
    }
   ],
   "source": [
    "!pip list | grep -i \"torch\""
   ]
  },
  {
   "cell_type": "code",
   "execution_count": 57,
   "metadata": {},
   "outputs": [
    {
     "name": "stdout",
     "output_type": "stream",
     "text": [
      "total 163M\r\n",
      "drwxr-xr-x 3 root root 4.0K May  6 04:15 cifar10\r\n",
      "drwxr-xr-x 2 root root 4.0K May  6 04:15 cifar-10-batches-py\r\n",
      "-rw-r--r-- 1 root root 163M May  5 13:43 cifar-10-python.tar.gz\r\n"
     ]
    }
   ],
   "source": [
    "!ls -lh dl2_2017/data"
   ]
  },
  {
   "cell_type": "markdown",
   "metadata": {},
   "source": [
    "---\n",
    "\n",
    "## Process LSUN Dataset"
   ]
  },
  {
   "cell_type": "markdown",
   "metadata": {},
   "source": [
    "Convert LSUN LMDB to JPG files using the python scripts provided by them. Their docs: https://github.com/fyu/lsun"
   ]
  },
  {
   "cell_type": "code",
   "execution_count": 60,
   "metadata": {},
   "outputs": [],
   "source": [
    "dl2_2017_root = '~/clouderizer/fast.ai/fastai/courses/dl1/dl2_2017'"
   ]
  },
  {
   "cell_type": "markdown",
   "metadata": {},
   "source": [
    "Create the scripts folder in the `dl2_2017` folder:"
   ]
  },
  {
   "cell_type": "code",
   "execution_count": 62,
   "metadata": {},
   "outputs": [],
   "source": [
    "%mkdir {dl2_2017_root}/lsun_scripts"
   ]
  },
  {
   "cell_type": "markdown",
   "metadata": {},
   "source": [
    "Download the scripts. We will be using the fast.ai modified version of the scripts that support Python 3."
   ]
  },
  {
   "cell_type": "code",
   "execution_count": 66,
   "metadata": {},
   "outputs": [
    {
     "name": "stdout",
     "output_type": "stream",
     "text": [
      "  % Total    % Received % Xferd  Average Speed   Time    Time     Time  Current\n",
      "                                 Dload  Upload   Total   Spent    Left  Speed\n",
      "100   158  100   158    0     0    158      0  0:00:01 --:--:--  0:00:01   637\n",
      "100  1641  100  1641    0     0   1641      0  0:00:01 --:--:--  0:00:01  1641\n"
     ]
    }
   ],
   "source": [
    "!curl -L https://github.com/fastai/fastai/raw/master/courses/dl2/lsun_scripts/lsun-data.py -o {dl2_2017_root}/lsun_scripts/lsun-data.py"
   ]
  },
  {
   "cell_type": "code",
   "execution_count": null,
   "metadata": {},
   "outputs": [],
   "source": [
    "!cat {dl2_2017_root}/lsun_scripts/lsun-data.py"
   ]
  },
  {
   "cell_type": "code",
   "execution_count": 70,
   "metadata": {},
   "outputs": [
    {
     "name": "stdout",
     "output_type": "stream",
     "text": [
      "bedroom_train_lmdb.zip\r\n"
     ]
    }
   ],
   "source": [
    "!ls ~/lsun_data"
   ]
  },
  {
   "cell_type": "code",
   "execution_count": null,
   "metadata": {},
   "outputs": [],
   "source": []
  }
 ],
 "metadata": {
  "kernelspec": {
   "display_name": "Python 3",
   "language": "python",
   "name": "python3"
  },
  "language_info": {
   "codemirror_mode": {
    "name": "ipython",
    "version": 3
   },
   "file_extension": ".py",
   "mimetype": "text/x-python",
   "name": "python",
   "nbconvert_exporter": "python",
   "pygments_lexer": "ipython3",
   "version": "3.6.3"
  }
 },
 "nbformat": 4,
 "nbformat_minor": 2
}
