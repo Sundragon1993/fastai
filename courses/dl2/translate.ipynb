{
 "cells": [
  {
   "cell_type": "markdown",
   "metadata": {},
   "source": [
    "# Neural Machine Translation"
   ]
  },
  {
   "cell_type": "code",
   "execution_count": 9,
   "metadata": {},
   "outputs": [],
   "source": [
    "%matplotlib inline\n",
    "%reload_ext autoreload\n",
    "%autoreload 2"
   ]
  },
  {
   "cell_type": "markdown",
   "metadata": {},
   "source": [
    "## 1. Data"
   ]
  },
  {
   "cell_type": "markdown",
   "metadata": {},
   "source": [
    "## Translation files"
   ]
  },
  {
   "cell_type": "code",
   "execution_count": 2,
   "metadata": {},
   "outputs": [],
   "source": [
    "from fastai.text import *"
   ]
  },
  {
   "cell_type": "markdown",
   "metadata": {},
   "source": [
    "**Download dataset**"
   ]
  },
  {
   "cell_type": "markdown",
   "metadata": {},
   "source": [
    "French/English parallel texts from http://www.statmt.org/wmt15/translation-task.html . It was created by Chris Callison-Burch, who crawled millions of web pages and then used *a set of simple heuristics to transform French URLs onto English URLs (i.e. replacing \"fr\" with \"en\" and about 40 other hand-written rules), and assume that these documents are translations of each other*."
   ]
  },
  {
   "cell_type": "code",
   "execution_count": 6,
   "metadata": {},
   "outputs": [
    {
     "name": "stdout",
     "output_type": "stream",
     "text": [
      "/home/ubuntu/data\n"
     ]
    }
   ],
   "source": [
    "%cd data\n",
    "%mkdir translate"
   ]
  },
  {
   "cell_type": "markdown",
   "metadata": {},
   "source": [
    "~20 minutes to download at 1.5 MB/s"
   ]
  },
  {
   "cell_type": "code",
   "execution_count": 8,
   "metadata": {
    "scrolled": true
   },
   "outputs": [
    {
     "name": "stdout",
     "output_type": "stream",
     "text": [
      "[#48abf9 32KiB/2.4GiB(0%) CN:5 DL:\u001b[32m73KiB\u001b[0m ETA:\u001b[33m9h34m4s\u001b[0m]\u001b[0m     \n",
      "07/02 05:11:30 [\u001b[1;31mERROR\u001b[0m] CUID#10 - Download aborted. URI=http://www.statmt.org/wmt10/training-giga-fren.tar\n",
      "Exception: [AbstractCommand.cc:350] errorCode=29 URI=http://www.statmt.org/wmt10/training-giga-fren.tar\n",
      "  -> [HttpSkipResponseCommand.cc:224] errorCode=29 The response status is not successful. status=503\n",
      "\n",
      "07/02 05:11:30 [\u001b[1;31mERROR\u001b[0m] CUID#8 - Download aborted. URI=http://www.statmt.org/wmt10/training-giga-fren.tar\n",
      "Exception: [AbstractCommand.cc:350] errorCode=29 URI=http://www.statmt.org/wmt10/training-giga-fren.tar\n",
      "  -> [HttpSkipResponseCommand.cc:224] errorCode=29 The response status is not successful. status=503\n",
      "\n",
      "07/02 05:11:30 [\u001b[1;31mERROR\u001b[0m] CUID#7 - Download aborted. URI=http://www.statmt.org/wmt10/training-giga-fren.tar\n",
      "Exception: [AbstractCommand.cc:350] errorCode=29 URI=http://www.statmt.org/wmt10/training-giga-fren.tar\n",
      "  -> [HttpSkipResponseCommand.cc:224] errorCode=29 The response status is not successful. status=503\n",
      " *** Download Progress Summary as of Mon Jul  2 05:12:30 2018 ***              \n",
      "===============================================================================\n",
      "[#48abf9 95MiB/2.4GiB(3%) CN:2 DL:1.6MiB ETA:24m43s]\n",
      "FILE: /home/ubuntu/data/training-giga-fren.tar\n",
      "-------------------------------------------------------------------------------\n",
      "\n",
      " *** Download Progress Summary as of Mon Jul  2 05:13:30 2018 ***              \n",
      "===============================================================================\n",
      "[#48abf9 206MiB/2.4GiB(8%) CN:2 DL:1.9MiB ETA:19m40s]\n",
      "FILE: /home/ubuntu/data/training-giga-fren.tar\n",
      "-------------------------------------------------------------------------------\n",
      "\n",
      " *** Download Progress Summary as of Mon Jul  2 05:14:31 2018 ***              \n",
      "===============================================================================\n",
      "[#48abf9 322MiB/2.4GiB(13%) CN:2 DL:1.9MiB ETA:18m41s]\n",
      "FILE: /home/ubuntu/data/training-giga-fren.tar\n",
      "-------------------------------------------------------------------------------\n",
      "\n",
      " *** Download Progress Summary as of Mon Jul  2 05:15:31 2018 ***              \n",
      "===============================================================================\n",
      "[#48abf9 439MiB/2.4GiB(17%) CN:2 DL:1.9MiB ETA:17m40s]\n",
      "FILE: /home/ubuntu/data/training-giga-fren.tar\n",
      "-------------------------------------------------------------------------------\n",
      "\n",
      " *** Download Progress Summary as of Mon Jul  2 05:16:32 2018 ***              \n",
      "===============================================================================\n",
      "[#48abf9 576MiB/2.4GiB(23%) CN:2 DL:2.3MiB ETA:13m14s]\n",
      "FILE: /home/ubuntu/data/training-giga-fren.tar\n",
      "-------------------------------------------------------------------------------\n",
      "\n",
      " *** Download Progress Summary as of Mon Jul  2 05:17:32 2018 ***              \n",
      "===============================================================================\n",
      "[#48abf9 721MiB/2.4GiB(29%) CN:2 DL:2.3MiB ETA:12m12s]\n",
      "FILE: /home/ubuntu/data/training-giga-fren.tar\n",
      "-------------------------------------------------------------------------------\n",
      "\n",
      " *** Download Progress Summary as of Mon Jul  2 05:18:33 2018 ***              \n",
      "===============================================================================\n",
      "[#48abf9 866MiB/2.4GiB(34%) CN:2 DL:2.3MiB ETA:11m13s]\n",
      "FILE: /home/ubuntu/data/training-giga-fren.tar\n",
      "-------------------------------------------------------------------------------\n",
      "\n",
      " *** Download Progress Summary as of Mon Jul  2 05:19:34 2018 ***              \n",
      "===============================================================================\n",
      "[#48abf9 0.9GiB/2.4GiB(40%) CN:2 DL:2.3MiB ETA:10m12s]\n",
      "FILE: /home/ubuntu/data/training-giga-fren.tar\n",
      "-------------------------------------------------------------------------------\n",
      "\n",
      " *** Download Progress Summary as of Mon Jul  2 05:20:34 2018 ***              \n",
      "===============================================================================\n",
      "[#48abf9 1.1GiB/2.4GiB(46%) CN:2 DL:2.3MiB ETA:9m11s]\n",
      "FILE: /home/ubuntu/data/training-giga-fren.tar\n",
      "-------------------------------------------------------------------------------\n",
      "\n",
      " *** Download Progress Summary as of Mon Jul  2 05:21:35 2018 ***              \n",
      "===============================================================================\n",
      "[#48abf9 1.2GiB/2.4GiB(50%) CN:2 DL:1.2MiB ETA:15m59s]\n",
      "FILE: /home/ubuntu/data/training-giga-fren.tar\n",
      "-------------------------------------------------------------------------------\n",
      "\n",
      " *** Download Progress Summary as of Mon Jul  2 05:22:35 2018 ***              \n",
      "===============================================================================\n",
      "[#48abf9 1.2GiB/2.4GiB(53%) CN:2 DL:1.0MiB ETA:17m51s]\n",
      "FILE: /home/ubuntu/data/training-giga-fren.tar\n",
      "-------------------------------------------------------------------------------\n",
      "\n",
      " *** Download Progress Summary as of Mon Jul  2 05:23:36 2018 ***              \n",
      "===============================================================================\n",
      "[#48abf9 1.3GiB/2.4GiB(55%) CN:2 DL:917KiB ETA:20m17s]\n",
      "FILE: /home/ubuntu/data/training-giga-fren.tar\n",
      "-------------------------------------------------------------------------------\n",
      "\n",
      " *** Download Progress Summary as of Mon Jul  2 05:24:37 2018 ***              \n",
      "===============================================================================\n",
      "[#48abf9 1.4GiB/2.4GiB(58%) CN:2 DL:901KiB ETA:19m38s]\n",
      "FILE: /home/ubuntu/data/training-giga-fren.tar\n",
      "-------------------------------------------------------------------------------\n",
      "\n",
      " *** Download Progress Summary as of Mon Jul  2 05:25:37 2018 ***              \n",
      "===============================================================================\n",
      "[#48abf9 1.4GiB/2.4GiB(60%) CN:2 DL:901KiB ETA:18m38s]\n",
      "FILE: /home/ubuntu/data/training-giga-fren.tar\n",
      "-------------------------------------------------------------------------------\n",
      "\n",
      " *** Download Progress Summary as of Mon Jul  2 05:26:38 2018 ***              \n",
      "===============================================================================\n",
      "[#48abf9 1.5GiB/2.4GiB(62%) CN:2 DL:1.3MiB ETA:11m23s]\n",
      "FILE: /home/ubuntu/data/training-giga-fren.tar\n",
      "-------------------------------------------------------------------------------\n",
      "\n",
      " *** Download Progress Summary as of Mon Jul  2 05:27:39 2018 ***              \n",
      "===============================================================================\n",
      "[#48abf9 1.5GiB/2.4GiB(66%) CN:2 DL:1.3MiB ETA:10m7s]\n",
      "FILE: /home/ubuntu/data/training-giga-fren.tar\n",
      "-------------------------------------------------------------------------------\n",
      "\n",
      " *** Download Progress Summary as of Mon Jul  2 05:28:40 2018 ***              \n",
      "===============================================================================\n",
      "[#48abf9 1.6GiB/2.4GiB(70%) CN:2 DL:1.9MiB ETA:6m24s]\n",
      "FILE: /home/ubuntu/data/training-giga-fren.tar\n",
      "-------------------------------------------------------------------------------\n",
      "\n",
      " *** Download Progress Summary as of Mon Jul  2 05:29:40 2018 ***              \n",
      "===============================================================================\n",
      "[#48abf9 1.8GiB/2.4GiB(74%) CN:2 DL:1.9MiB ETA:5m24s]\n",
      "FILE: /home/ubuntu/data/training-giga-fren.tar\n",
      "-------------------------------------------------------------------------------\n",
      "\n",
      " *** Download Progress Summary as of Mon Jul  2 05:30:41 2018 ***              \n",
      "===============================================================================\n",
      "[#48abf9 1.9GiB/2.4GiB(79%) CN:2 DL:1.9MiB ETA:4m23s]\n",
      "FILE: /home/ubuntu/data/training-giga-fren.tar\n",
      "-------------------------------------------------------------------------------\n",
      "\n",
      " *** Download Progress Summary as of Mon Jul  2 05:31:41 2018 ***              \n",
      "===============================================================================\n",
      "[#48abf9 2.0GiB/2.4GiB(84%) CN:2 DL:1.8MiB ETA:3m29s]\n",
      "FILE: /home/ubuntu/data/training-giga-fren.tar\n",
      "-------------------------------------------------------------------------------\n",
      "\n",
      " *** Download Progress Summary as of Mon Jul  2 05:32:42 2018 ***              \n",
      "===============================================================================\n",
      "[#48abf9 2.1GiB/2.4GiB(88%) CN:2 DL:1.6MiB ETA:3m3s]\n",
      "FILE: /home/ubuntu/data/training-giga-fren.tar\n",
      "-------------------------------------------------------------------------------\n",
      "\n"
     ]
    },
    {
     "name": "stdout",
     "output_type": "stream",
     "text": [
      " *** Download Progress Summary as of Mon Jul  2 05:33:42 2018 ***              \n",
      "===============================================================================\n",
      "[#48abf9 2.2GiB/2.4GiB(92%) CN:2 DL:1.6MiB ETA:2m3s]\n",
      "FILE: /home/ubuntu/data/training-giga-fren.tar\n",
      "-------------------------------------------------------------------------------\n",
      "\n",
      " *** Download Progress Summary as of Mon Jul  2 05:34:43 2018 ***              \n",
      "===============================================================================\n",
      "[#48abf9 2.3GiB/2.4GiB(95%) CN:2 DL:1.5MiB ETA:1m5s]\n",
      "FILE: /home/ubuntu/data/training-giga-fren.tar\n",
      "-------------------------------------------------------------------------------\n",
      "\n",
      " *** Download Progress Summary as of Mon Jul  2 05:35:44 2018 ***              \n",
      "===============================================================================\n",
      "[#48abf9 2.4GiB/2.4GiB(99%) CN:2 DL:1.7MiB ETA:1s]\n",
      "FILE: /home/ubuntu/data/training-giga-fren.tar\n",
      "-------------------------------------------------------------------------------\n",
      "\n",
      "[#48abf9 2.4GiB/2.4GiB(99%) CN:2 DL:\u001b[32m1.7MiB\u001b[0m]\u001b[0m                       \n",
      "07/02 05:35:45 [\u001b[1;32mNOTICE\u001b[0m] Download complete: /home/ubuntu/data/training-giga-fren.tar\n",
      "\n",
      "Download Results:\n",
      "gid   |stat|avg speed  |path/URI\n",
      "======+====+===========+=======================================================\n",
      "48abf9|\u001b[1;32mOK\u001b[0m  |   1.7MiB/s|/home/ubuntu/data/training-giga-fren.tar\n",
      "\n",
      "Status Legend:\n",
      "(OK):download completed.\n"
     ]
    }
   ],
   "source": [
    "!aria2c --file-allocation=none -c -x 5 -s 5 http://www.statmt.org/wmt10/training-giga-fren.tar"
   ]
  },
  {
   "cell_type": "code",
   "execution_count": 11,
   "metadata": {},
   "outputs": [],
   "source": [
    "!tar -xf training-giga-fren.tar"
   ]
  },
  {
   "cell_type": "code",
   "execution_count": 13,
   "metadata": {},
   "outputs": [],
   "source": [
    "%mv giga-fren.release2.fixed.en.gz giga-fren.release2.fixed.fr.gz training-giga-fren.tar translate/"
   ]
  },
  {
   "cell_type": "code",
   "execution_count": 14,
   "metadata": {},
   "outputs": [
    {
     "name": "stdout",
     "output_type": "stream",
     "text": [
      "/home/ubuntu/data/translate\n"
     ]
    }
   ],
   "source": [
    "%cd translate/"
   ]
  },
  {
   "cell_type": "code",
   "execution_count": 18,
   "metadata": {},
   "outputs": [
    {
     "name": "stdout",
     "output_type": "stream",
     "text": [
      "tar: This does not look like a tar archive\n",
      "tar: Skipping to next header\n",
      "tar: Exiting with failure status due to previous errors\n"
     ]
    }
   ],
   "source": [
    "# Strange error\n",
    "!tar -xzf giga-fren.release2.fixed.en.gz"
   ]
  },
  {
   "cell_type": "code",
   "execution_count": 19,
   "metadata": {},
   "outputs": [],
   "source": [
    "# Resolve the previous issue\n",
    "!gunzip giga-fren.release2.fixed.en.gz"
   ]
  },
  {
   "cell_type": "code",
   "execution_count": 20,
   "metadata": {},
   "outputs": [],
   "source": [
    "!gunzip giga-fren.release2.fixed.fr.gz"
   ]
  },
  {
   "cell_type": "code",
   "execution_count": 22,
   "metadata": {},
   "outputs": [
    {
     "name": "stdout",
     "output_type": "stream",
     "text": [
      "/home/ubuntu\n"
     ]
    }
   ],
   "source": [
    "%cd ../.."
   ]
  },
  {
   "cell_type": "markdown",
   "metadata": {},
   "source": [
    "**Setup the directories and files**"
   ]
  },
  {
   "cell_type": "code",
   "execution_count": 27,
   "metadata": {},
   "outputs": [],
   "source": [
    "PATH = Path('data/translate')\n",
    "TMP_PATH = PATH / 'tmp'\n",
    "TMP_PATH.mkdir(exist_ok=True)\n",
    "fname = 'giga-fren.release2.fixed'\n",
    "en_fname = PATH / f'{fname}.en'\n",
    "fr_fname = PATH / f'{fname}.fr'"
   ]
  },
  {
   "cell_type": "markdown",
   "metadata": {},
   "source": [
    "### Tokenizing and Pre-processing"
   ]
  },
  {
   "cell_type": "markdown",
   "metadata": {},
   "source": [
    "Training a neural model takes a long time\n",
    "\n",
    "- Google's model has 8 layers\n",
    "- we are going to build a simpler one\n",
    "- Instead of a general model we will translate French questions"
   ]
  },
  {
   "cell_type": "code",
   "execution_count": 30,
   "metadata": {},
   "outputs": [],
   "source": [
    "# Question regex search filters\n",
    "re_eq = re.compile('^(Wh[^?.!]+\\?)')\n",
    "re_fq = re.compile('^([^?.!]+\\?)')\n",
    "\n",
    "# grabbing lines from the English and French source texts\n",
    "lines = ( (re_eq.search(eq), re_fq.search(fq))\n",
    "         for eq, fq in zip(open(en_fname, encoding='utf-8'), open(fr_fname, encoding='utf-8')))\n",
    "\n",
    "# isolate the questions\n",
    "qs = [(e.group(), f.group()) for e, f in lines if e and f]"
   ]
  },
  {
   "cell_type": "code",
   "execution_count": 40,
   "metadata": {},
   "outputs": [],
   "source": [
    "# save the questions for later\n",
    "pickle.dump(qs, (PATH / 'fr-en-qs.pkl').open('wb'))"
   ]
  },
  {
   "cell_type": "code",
   "execution_count": 41,
   "metadata": {},
   "outputs": [],
   "source": [
    "# load in pickled questions\n",
    "qs = pickle.load((PATH / 'fr-en-qs.pkl').open('rb'))"
   ]
  },
  {
   "cell_type": "code",
   "execution_count": 46,
   "metadata": {},
   "outputs": [
    {
     "name": "stdout",
     "output_type": "stream",
     "text": [
      "52331\n",
      "[('What is light ?', 'Qu’est-ce que la lumière?'), ('Who are we?', 'Où sommes-nous?'), ('Where did we come from?', \"D'où venons-nous?\"), ('What would we do without it?', 'Que ferions-nous sans elle ?'), ('What is the absolute location (latitude and longitude) of Badger, Newfoundland and Labrador?', 'Quelle sont les coordonnées (latitude et longitude) de Badger, à Terre-Neuve-etLabrador?')]\n"
     ]
    }
   ],
   "source": [
    "# ======================================== START DEBUG ========================================\n",
    "print(len(qs))\n",
    "print(qs[:5])\n",
    "# ======================================== END DEBUG ========================================"
   ]
  },
  {
   "cell_type": "code",
   "execution_count": 58,
   "metadata": {},
   "outputs": [
    {
     "name": "stdout",
     "output_type": "stream",
     "text": [
      "[('x', 3), ('y', 4), ('z', 5)]\n",
      "('x', 'y', 'z')\n",
      "(3, 4, 5)\n"
     ]
    }
   ],
   "source": [
    "# ======================================== START DEBUG ========================================\n",
    "# Python zip method: https://www.programiz.com/python-programming/methods/built-in/zip\n",
    "# What is iterable, iterator: https://stackoverflow.com/questions/9884132/what-exactly-are-iterator-iterable-and-iteration\n",
    "coord = ['x', 'y', 'z']\n",
    "value = [3, 4, 5, 0, 9]\n",
    "result = zip(coord, value)\n",
    "result_list = list(result)\n",
    "print(result_list)\n",
    "# unzip result_list\n",
    "c, v = zip(*result_list)\n",
    "print(c)\n",
    "print(v)\n",
    "# ======================================== END DEBUG ========================================"
   ]
  },
  {
   "cell_type": "markdown",
   "metadata": {},
   "source": [
    "Tokenize all the questions."
   ]
  },
  {
   "cell_type": "code",
   "execution_count": 59,
   "metadata": {},
   "outputs": [],
   "source": [
    "en_qs, fr_qs = zip(*qs)"
   ]
  },
  {
   "cell_type": "code",
   "execution_count": null,
   "metadata": {},
   "outputs": [],
   "source": [
    "en_tok = Tokenizer.proc_all_mp(partition_by_cores(en_qs))"
   ]
  },
  {
   "cell_type": "code",
   "execution_count": 63,
   "metadata": {},
   "outputs": [],
   "source": [
    "en_tok = Tokenizer.proc_all_mp(partition_by_cores(en_qs))"
   ]
  },
  {
   "cell_type": "markdown",
   "metadata": {},
   "source": [
    "_Note: tokenizing for French is much different compared to english_"
   ]
  },
  {
   "cell_type": "code",
   "execution_count": 68,
   "metadata": {
    "scrolled": true
   },
   "outputs": [
    {
     "name": "stdout",
     "output_type": "stream",
     "text": [
      "Collecting https://github.com/explosion/spacy-models/releases/download/fr_core_news_sm-2.0.0/fr_core_news_sm-2.0.0.tar.gz\n",
      "  Downloading https://github.com/explosion/spacy-models/releases/download/fr_core_news_sm-2.0.0/fr_core_news_sm-2.0.0.tar.gz (39.8MB)\n",
      "\u001b[K    100% |████████████████████████████████| 39.8MB 71.0MB/s ta 0:00:01\n",
      "\u001b[?25hInstalling collected packages: fr-core-news-sm\n",
      "  Running setup.py install for fr-core-news-sm ... \u001b[?25ldone\n",
      "\u001b[?25hSuccessfully installed fr-core-news-sm-2.0.0\n",
      "\u001b[33mYou are using pip version 9.0.3, however version 10.0.1 is available.\n",
      "You should consider upgrading via the 'pip install --upgrade pip' command.\u001b[0m\n",
      "\n",
      "\u001b[93m    Linking successful\u001b[0m\n",
      "    /home/ubuntu/anaconda3/envs/fastai/lib/python3.6/site-packages/fr_core_news_sm\n",
      "    -->\n",
      "    /home/ubuntu/anaconda3/envs/fastai/lib/python3.6/site-packages/spacy/data/fr\n",
      "\n",
      "    You can now load the model via spacy.load('fr')\n",
      "\n"
     ]
    }
   ],
   "source": [
    "# Download spaCy 'fr' model.Otherwise, you'll encounter errorr \"OSError: [E050] Can't find model 'fr'...\"\n",
    "!python -m spacy download fr"
   ]
  },
  {
   "cell_type": "code",
   "execution_count": 69,
   "metadata": {
    "scrolled": true
   },
   "outputs": [],
   "source": [
    "fr_tok = Tokenizer.proc_all_mp(partition_by_cores(fr_qs), 'fr')"
   ]
  },
  {
   "cell_type": "code",
   "execution_count": 73,
   "metadata": {},
   "outputs": [
    {
     "data": {
      "text/plain": [
       "([['what', 'is', 'light', '?'],\n",
       "  ['who', 'are', 'we', '?'],\n",
       "  ['where', 'did', 'we', 'come', 'from', '?']],\n",
       " [['qu’', 'est', '-ce', 'que', 'la', 'lumière', '?'],\n",
       "  ['où', 'sommes', '-', 'nous', '?'],\n",
       "  [\"d'\", 'où', 'venons', '-', 'nous', '?']])"
      ]
     },
     "execution_count": 73,
     "metadata": {},
     "output_type": "execute_result"
    }
   ],
   "source": [
    "en_tok[:3], fr_tok[:3]"
   ]
  },
  {
   "cell_type": "markdown",
   "metadata": {},
   "source": [
    "Check stats for the sentences length"
   ]
  },
  {
   "cell_type": "code",
   "execution_count": 74,
   "metadata": {},
   "outputs": [
    {
     "data": {
      "text/plain": [
       "(23.0, 28.0)"
      ]
     },
     "execution_count": 74,
     "metadata": {},
     "output_type": "execute_result"
    }
   ],
   "source": [
    "# 90th percentile of English and French sentences length.\n",
    "np.percentile([len(o) for o in en_tok], 90), np.percentile([len(o) for o in fr_tok], 90)"
   ]
  },
  {
   "cell_type": "markdown",
   "metadata": {},
   "source": [
    "We are keeping tokens that are less than 30 chars. The filter is applied on the English words, and the same tokens are kept for French."
   ]
  },
  {
   "cell_type": "code",
   "execution_count": 75,
   "metadata": {},
   "outputs": [],
   "source": [
    "keep = np.array([len(o) < 30 for o in en_tok])"
   ]
  },
  {
   "cell_type": "code",
   "execution_count": 85,
   "metadata": {},
   "outputs": [],
   "source": [
    "en_tok = np.array(en_tok)[keep]\n",
    "fr_tok = np.array(fr_tok)[keep]"
   ]
  },
  {
   "cell_type": "code",
   "execution_count": 90,
   "metadata": {},
   "outputs": [],
   "source": [
    "# save our work\n",
    "pickle.dump(en_tok, (PATH / 'en_tok.pkl').open('wb'))\n",
    "pickle.dump(fr_tok, (PATH / 'fr_tok.pkl').open('wb'))"
   ]
  },
  {
   "cell_type": "code",
   "execution_count": 101,
   "metadata": {},
   "outputs": [],
   "source": [
    "def toks2ids(tok, pre):\n",
    "    \"\"\"\n",
    "    Numericalize words to integers.\n",
    "    \n",
    "    Arguments:\n",
    "        tok: token\n",
    "        pre: prefix\n",
    "    \"\"\"\n",
    "    freq = Counter(p for o in tok for p in o)\n",
    "    itos = [o for o, c in freq.most_common(40000)] # 40k most common words\n",
    "    itos.insert(0, '_bos_')\n",
    "    itos.insert(1, '_pad_')\n",
    "    itos.insert(2, '_eos_')\n",
    "    itos.insert(3, '_unk')\n",
    "    stoi = collections.defaultdict(lambda: 3, { v: k for k, v in enumerate(itos) }) #reverse\n",
    "    ids = np.array([ ([stoi[o] for o in p] + [2]) for p in tok ])\n",
    "    np.save(TMP_PATH / f'{pre}_ids.npy', ids)\n",
    "    pickle.dump(itos, open(TMP_PATH / f'{pre}_itos.pkl', 'wb'))\n",
    "    return ids, itos, stoi"
   ]
  },
  {
   "cell_type": "code",
   "execution_count": 102,
   "metadata": {},
   "outputs": [],
   "source": [
    "en_ids, en_itos, en_stoi = toks2ids(en_tok, 'en')\n",
    "fr_ids, fr_itos, fr_stoi = toks2ids(fr_tok, 'fr')"
   ]
  },
  {
   "cell_type": "code",
   "execution_count": 110,
   "metadata": {},
   "outputs": [],
   "source": [
    "def load_ids(pre):\n",
    "    ids = np.load(TMP_PATH / f'{pre}_ids.npy')\n",
    "    itos = pickle.load(open(TMP_PATH / f'{pre}_itos.pkl', 'rb'))\n",
    "    stoi = collections.defaultdict(lambda: 3, { v: k for k, v in enumerate(itos) })\n",
    "    return ids, itos, stoi"
   ]
  },
  {
   "cell_type": "code",
   "execution_count": 111,
   "metadata": {},
   "outputs": [],
   "source": [
    "en_ids, en_itos, en_stoi = load_ids('en')\n",
    "fr_ids, fr_itos, fr_stoi = load_ids('fr')"
   ]
  },
  {
   "cell_type": "code",
   "execution_count": 116,
   "metadata": {},
   "outputs": [
    {
     "data": {
      "text/plain": [
       "(['qu’', 'est', '-ce', 'que', 'la', 'lumière', '?', '_eos_'], 17573, 24793)"
      ]
     },
     "execution_count": 116,
     "metadata": {},
     "output_type": "execute_result"
    }
   ],
   "source": [
    "# Sanity check\n",
    "[fr_itos[o] for o in fr_ids[0]], len(en_itos), len(fr_itos)"
   ]
  },
  {
   "cell_type": "markdown",
   "metadata": {},
   "source": [
    "## Word vectors"
   ]
  },
  {
   "cell_type": "markdown",
   "metadata": {},
   "source": [
    "Facebook's fasttext word vectors available from https://fasttext.cc/docs/en/english-vectors.html"
   ]
  },
  {
   "cell_type": "markdown",
   "metadata": {},
   "source": [
    "Download word vectors:\n",
    "\n",
    "We are using the pre-trained word vectors for English language, trained on Wikipedia using fastText. These vectors in dimension 300 were obtained using the skip-gram model: https://fasttext.cc/docs/en/pretrained-vectors.html"
   ]
  },
  {
   "cell_type": "code",
   "execution_count": 118,
   "metadata": {
    "scrolled": true
   },
   "outputs": [
    {
     "name": "stdout",
     "output_type": "stream",
     "text": [
      " *** Download Progress Summary as of Mon Jul  2 14:55:13 2018 ***              \n",
      "===============================================================================\n",
      "[#fe81f7 2.9GiB/9.6GiB(30%) CN:5 DL:55MiB ETA:2m5s]\n",
      "FILE: data/translate/wiki.en.zip\n",
      "-------------------------------------------------------------------------------\n",
      "\n",
      " *** Download Progress Summary as of Mon Jul  2 14:56:14 2018 ***              \n",
      "===============================================================================\n",
      "[#fe81f7 5.8GiB/9.6GiB(60%) CN:5 DL:52MiB ETA:1m14s]\n",
      "FILE: data/translate/wiki.en.zip\n",
      "-------------------------------------------------------------------------------\n",
      "\n",
      " *** Download Progress Summary as of Mon Jul  2 14:57:14 2018 ***              \n",
      "===============================================================================\n",
      "[#fe81f7 8.6GiB/9.6GiB(89%) CN:5 DL:52MiB ETA:19s]\n",
      "FILE: data/translate/wiki.en.zip\n",
      "-------------------------------------------------------------------------------\n",
      "\n",
      "[#fe81f7 9.6GiB/9.6GiB(99%) CN:2 DL:\u001b[32m39MiB\u001b[0m]\u001b[0m                        \n",
      "07/02 14:57:39 [\u001b[1;32mNOTICE\u001b[0m] Download complete: data/translate/wiki.en.zip\n",
      "\n",
      "Download Results:\n",
      "gid   |stat|avg speed  |path/URI\n",
      "======+====+===========+=======================================================\n",
      "fe81f7|\u001b[1;32mOK\u001b[0m  |    47MiB/s|data/translate/wiki.en.zip\n",
      "\n",
      "Status Legend:\n",
      "(OK):download completed.\n"
     ]
    }
   ],
   "source": [
    "!aria2c --file-allocation=none -c -x 5 -s 5 -d data/translate https://s3-us-west-1.amazonaws.com/fasttext-vectors/wiki.en.zip"
   ]
  },
  {
   "cell_type": "code",
   "execution_count": 119,
   "metadata": {},
   "outputs": [
    {
     "name": "stdout",
     "output_type": "stream",
     "text": [
      " *** Download Progress Summary as of Mon Jul  2 15:01:29 2018 ***              \n",
      "===============================================================================\n",
      "[#2e6d55 2.5GiB/5.5GiB(45%) CN:5 DL:34MiB ETA:1m29s]\n",
      "FILE: data/translate/wiki.fr.zip\n",
      "-------------------------------------------------------------------------------\n",
      "\n",
      " *** Download Progress Summary as of Mon Jul  2 15:02:29 2018 ***              \n",
      "===============================================================================\n",
      "[#2e6d55 5.3GiB/5.5GiB(95%) CN:5 DL:42MiB ETA:5s]\n",
      "FILE: data/translate/wiki.fr.zip\n",
      "-------------------------------------------------------------------------------\n",
      "\n",
      "[#2e6d55 5.5GiB/5.5GiB(99%) CN:1 DL:\u001b[32m11MiB\u001b[0m]\u001b[0m                        \n",
      "07/02 15:02:47 [\u001b[1;32mNOTICE\u001b[0m] Download complete: data/translate/wiki.fr.zip\n",
      "\n",
      "Download Results:\n",
      "gid   |stat|avg speed  |path/URI\n",
      "======+====+===========+=======================================================\n",
      "2e6d55|\u001b[1;32mOK\u001b[0m  |    41MiB/s|data/translate/wiki.fr.zip\n",
      "\n",
      "Status Legend:\n",
      "(OK):download completed.\n"
     ]
    }
   ],
   "source": [
    "!aria2c --file-allocation=none -c -x 5 -s 5 -d data/translate https://s3-us-west-1.amazonaws.com/fasttext-vectors/wiki.fr.zip"
   ]
  },
  {
   "cell_type": "code",
   "execution_count": 123,
   "metadata": {},
   "outputs": [
    {
     "name": "stdout",
     "output_type": "stream",
     "text": [
      "Archive:  data/translate/wiki.en.zip\n",
      "  inflating: data/translate/wiki.en.vec  \n",
      "  inflating: data/translate/wiki.en.bin  \n"
     ]
    }
   ],
   "source": [
    "!unzip data/translate/wiki.en.zip -d data/translate/"
   ]
  },
  {
   "cell_type": "code",
   "execution_count": 124,
   "metadata": {},
   "outputs": [
    {
     "name": "stdout",
     "output_type": "stream",
     "text": [
      "Archive:  data/translate/wiki.fr.zip\n",
      "  inflating: data/translate/wiki.fr.vec  \n",
      "  inflating: data/translate/wiki.fr.bin  \n"
     ]
    }
   ],
   "source": [
    "!unzip data/translate/wiki.fr.zip -d data/translate/"
   ]
  },
  {
   "cell_type": "markdown",
   "metadata": {},
   "source": [
    "To use the fastText library, you'll need to download [fasttext word vectors](https://github.com/facebookresearch/fastText/blob/master/pretrained-vectors.md) for your language (download the 'bin plus text' ones)."
   ]
  },
  {
   "cell_type": "code",
   "execution_count": 125,
   "metadata": {},
   "outputs": [
    {
     "name": "stdout",
     "output_type": "stream",
     "text": [
      "Collecting git+https://github.com/facebookresearch/fastText.git\n",
      "  Cloning https://github.com/facebookresearch/fastText.git to /tmp/pip-9tychtgg-build\n",
      "Collecting pybind11>=2.2 (from fasttext==0.8.22)\n",
      "  Downloading https://files.pythonhosted.org/packages/12/90/0f92a575dc60c8fba6d0c91d6b45abdb1058da9ebed40400cbcfad2ac0a7/pybind11-2.2.3-py2.py3-none-any.whl (144kB)\n",
      "\u001b[K    100% |████████████████████████████████| 153kB 1.8MB/s ta 0:00:01\n",
      "\u001b[?25hRequirement already satisfied: setuptools>=0.7.0 in ./anaconda3/envs/fastai/lib/python3.6/site-packages (from fasttext==0.8.22)\n",
      "Requirement already satisfied: numpy in ./anaconda3/envs/fastai/lib/python3.6/site-packages (from fasttext==0.8.22)\n",
      "Installing collected packages: pybind11, fasttext\n",
      "  Running setup.py install for fasttext ... \u001b[?25ldone\n",
      "\u001b[?25hSuccessfully installed fasttext-0.8.22 pybind11-2.2.3\n",
      "\u001b[33mYou are using pip version 9.0.3, however version 10.0.1 is available.\n",
      "You should consider upgrading via the 'pip install --upgrade pip' command.\u001b[0m\n"
     ]
    }
   ],
   "source": [
    "!pip install git+https://github.com/facebookresearch/fastText.git"
   ]
  },
  {
   "cell_type": "code",
   "execution_count": 126,
   "metadata": {},
   "outputs": [],
   "source": [
    "import fastText as ft"
   ]
  },
  {
   "cell_type": "code",
   "execution_count": 127,
   "metadata": {},
   "outputs": [],
   "source": [
    "en_vecs = ft.load_model(str((PATH / 'wiki.en.bin')))"
   ]
  },
  {
   "cell_type": "code",
   "execution_count": 128,
   "metadata": {},
   "outputs": [],
   "source": [
    "fr_vecs = ft.load_model(str((PATH / 'wiki.fr.bin')))"
   ]
  },
  {
   "cell_type": "code",
   "execution_count": 130,
   "metadata": {},
   "outputs": [],
   "source": [
    "def get_vecs(lang, ft_vecs):\n",
    "    \"\"\"\n",
    "    get_word_vector:\n",
    "        [method] get the vector representation of word.\n",
    "    get_words:\n",
    "        [method] get the entire list of words of the dictionary optionally\n",
    "        including the frequency of the individual words. This\n",
    "        does not include any subwords. \n",
    "    \"\"\"\n",
    "    vecd = { w: ft_vecs.get_word_vector(w) for w in ft_vecs.get_words() }\n",
    "    pickle.dump(vecd, open(PATH / f'wiki.{lang}.pkl', 'wb'))\n",
    "    return vecd"
   ]
  },
  {
   "cell_type": "code",
   "execution_count": 131,
   "metadata": {},
   "outputs": [],
   "source": [
    "en_vecd = get_vecs('en', en_vecs)\n",
    "fr_vecd = get_vecs('fr', fr_vecs)"
   ]
  },
  {
   "cell_type": "code",
   "execution_count": 132,
   "metadata": {},
   "outputs": [],
   "source": [
    "en_vecd = pickle.load(open(PATH / 'wiki.en.pkl', 'rb'))\n",
    "fr_vecd = pickle.load(open(PATH / 'wiki.fr.pkl', 'rb'))"
   ]
  },
  {
   "cell_type": "code",
   "execution_count": 133,
   "metadata": {},
   "outputs": [],
   "source": [
    "# DEBUG\n",
    "ft_vecs = en_vecs"
   ]
  },
  {
   "cell_type": "code",
   "execution_count": 136,
   "metadata": {},
   "outputs": [
    {
     "data": {
      "text/plain": [
       "2519370"
      ]
     },
     "execution_count": 136,
     "metadata": {},
     "output_type": "execute_result"
    }
   ],
   "source": [
    "# DEBUG\n",
    "ft_words = ft_vecs.get_words(include_freq=True)\n",
    "ft_word_dict = { k: v for k, v in zip(*ft_words) }\n",
    "ft_words = sorted(ft_word_dict.keys(), key=lambda x: ft_word_dict[x])\n",
    "len(ft_words)"
   ]
  },
  {
   "cell_type": "code",
   "execution_count": 149,
   "metadata": {},
   "outputs": [
    {
     "data": {
      "text/plain": [
       "(300, 300)"
      ]
     },
     "execution_count": 149,
     "metadata": {},
     "output_type": "execute_result"
    }
   ],
   "source": [
    "dim_en_vec = len(en_vecd[','])\n",
    "dim_fr_vec = len(fr_vecd[','])\n",
    "dim_en_vec, dim_fr_vec"
   ]
  },
  {
   "cell_type": "code",
   "execution_count": null,
   "metadata": {},
   "outputs": [],
   "source": [
    "en_vecs = np.stack(list(en_vecd.values()))\n",
    "en_vecs.mean(),en_vecs.std()"
   ]
  },
  {
   "cell_type": "code",
   "execution_count": 156,
   "metadata": {},
   "outputs": [
    {
     "data": {
      "text/plain": [
       "(0.0075652334, 0.29283327)"
      ]
     },
     "execution_count": 156,
     "metadata": {},
     "output_type": "execute_result"
    }
   ],
   "source": [
    "# en_vecd type is dict\n",
    "en_vecs = np.stack(list(en_vecd.values())) # convert dict_values to list and then stack it\n",
    "en_vecs.mean(), en_vecs.std()"
   ]
  },
  {
   "cell_type": "markdown",
   "metadata": {},
   "source": [
    "## Model data"
   ]
  },
  {
   "cell_type": "markdown",
   "metadata": {},
   "source": [
    "**Exclude the extreme cases**"
   ]
  },
  {
   "cell_type": "markdown",
   "metadata": {},
   "source": [
    "Often corpuses have a pretty long tailed distribution of sequence length and it's the longest sequences that tend to overwhelm how long things take, how much memory is used, etc. So in this case, we are going to grab 99th to 97th percentile of the English and French and truncate them to that amount. Originally Jeremy was using 90 percentiles (hence the variable name):"
   ]
  },
  {
   "cell_type": "code",
   "execution_count": 157,
   "metadata": {},
   "outputs": [
    {
     "data": {
      "text/plain": [
       "(29, 38)"
      ]
     },
     "execution_count": 157,
     "metadata": {},
     "output_type": "execute_result"
    }
   ],
   "source": [
    "enlen_90 = int(np.percentile([len(o) for o in en_ids], 99))\n",
    "frlen_90 = int(np.percentile([len(o) for o in fr_ids], 99))\n",
    "enlen_90, frlen_90"
   ]
  },
  {
   "cell_type": "code",
   "execution_count": 158,
   "metadata": {},
   "outputs": [],
   "source": [
    "en_ids_tr = np.array([o[:enlen_90] for o in en_ids])\n",
    "fr_ids_tr = np.array([o[:frlen_90] for o in fr_ids])"
   ]
  },
  {
   "cell_type": "markdown",
   "metadata": {},
   "source": [
    "**Create our Dataset, DataLoaders**"
   ]
  },
  {
   "cell_type": "code",
   "execution_count": 159,
   "metadata": {},
   "outputs": [],
   "source": [
    "class Seq2SeqDataset(Dataset):\n",
    "    def __init__(self, x, y):\n",
    "        self.x, self.y = x, y\n",
    "    \n",
    "    def __getitem__(self, idx):\n",
    "        return A(self.x[idx], self.y[idx]) # A for Arrays\n",
    "    \n",
    "    def __len__(self):\n",
    "        return len(self.x)"
   ]
  },
  {
   "cell_type": "markdown",
   "metadata": {},
   "source": [
    "**Split the training and testing set**"
   ]
  },
  {
   "cell_type": "markdown",
   "metadata": {},
   "source": [
    "Here is an easy way to get training and validation sets. Grab a bunch of random numbers — one for each row of your data, and see if they are bigger than 0.1 or not. That gets you a list of booleans. Index into your array with that list of booleans to grab a training set, index into that array with the opposite of that list of booleans to get your validation set."
   ]
  },
  {
   "cell_type": "code",
   "execution_count": 160,
   "metadata": {},
   "outputs": [
    {
     "data": {
      "text/plain": [
       "(45219, 5041)"
      ]
     },
     "execution_count": 160,
     "metadata": {},
     "output_type": "execute_result"
    }
   ],
   "source": [
    "np.random.seed(42)\n",
    "trn_keep = np.random.rand(len(en_ids_tr)) > 0.1\n",
    "en_trn, fr_trn = en_ids_tr[trn_keep], fr_ids_tr[trn_keep] # training set\n",
    "en_val, fr_val = en_ids_tr[~trn_keep], fr_ids_tr[~trn_keep] # validation set\n",
    "len(en_trn), len(en_val)"
   ]
  },
  {
   "cell_type": "markdown",
   "metadata": {},
   "source": [
    "**Create training and validation sets**"
   ]
  },
  {
   "cell_type": "code",
   "execution_count": 162,
   "metadata": {},
   "outputs": [],
   "source": [
    "trn_ds = Seq2SeqDataset(fr_trn, en_trn)\n",
    "val_ds = Seq2SeqDataset(fr_val, en_val)"
   ]
  },
  {
   "cell_type": "code",
   "execution_count": 163,
   "metadata": {},
   "outputs": [],
   "source": [
    "# Set batch size\n",
    "bs = 125"
   ]
  },
  {
   "cell_type": "markdown",
   "metadata": {},
   "source": [
    "- Most of our preprocessing is complete, so making `numworkers = 1` will save you some time.\n",
    "- Padding will pad the shorter phrases to be the same length.\n",
    "- Classifier → padding in the beginning.\n",
    "- Decoder → padding at the end.\n",
    "- Sampler - so we keep the similar sentences together (sorted by length)."
   ]
  },
  {
   "cell_type": "code",
   "execution_count": 165,
   "metadata": {},
   "outputs": [],
   "source": [
    "# arranges sentences so that similar lengths are close to each other\n",
    "trn_samp = SortishSampler(en_trn, key=lambda x: len(en_trn[x]), bs=bs)\n",
    "val_samp = SortSampler(en_val, key=lambda x: len(en_val[x]))"
   ]
  },
  {
   "cell_type": "markdown",
   "metadata": {},
   "source": [
    "**Create DataLoaders**"
   ]
  },
  {
   "cell_type": "code",
   "execution_count": 167,
   "metadata": {},
   "outputs": [],
   "source": [
    "trn_dl = DataLoader(trn_ds, bs, transpose=True, transpose_y=True, num_workers=1,\n",
    "                    pad_idx=1, pre_pad=False, sampler=trn_samp)\n",
    "val_dl = DataLoader(val_ds, int(bs * 1.6), transpose=True, transpose_y=True, num_workers=1,\n",
    "                    pad_idx=1, pre_pad=False, sampler=val_samp)\n",
    "md = ModelData(PATH, trn_dl, val_dl)"
   ]
  },
  {
   "cell_type": "code",
   "execution_count": 169,
   "metadata": {},
   "outputs": [
    {
     "data": {
      "text/plain": [
       "[(38, 29), (21, 7), (21, 8), (38, 13), (38, 21)]"
      ]
     },
     "execution_count": 169,
     "metadata": {},
     "output_type": "execute_result"
    }
   ],
   "source": [
    "# Test - inspect\n",
    "\n",
    "it = iter(trn_dl) # trn_dl is iterable. turns iterable into iterator.\n",
    "# Return the next item from the iterator.\n",
    "its = [next(it) for i in range(5)]\n",
    "[(len(x), len(y)) for x, y in its]"
   ]
  },
  {
   "cell_type": "markdown",
   "metadata": {},
   "source": [
    "## 2. Architecture"
   ]
  },
  {
   "cell_type": "markdown",
   "metadata": {},
   "source": [
    "## Initial model"
   ]
  },
  {
   "cell_type": "markdown",
   "metadata": {},
   "source": [
    "![Architecture diagram](https://s15.postimg.cc/x710hbkdn/1_1f_KDa_Dsww_Vu3w2_Zt_Cg-_Uow.png)\n",
    "\n",
    "- The architecture is going to take our sequence of tokens.\n",
    "- It is going to spit them into an encoder (a.k.a. backbone).\n",
    "- That is going to spit out the final hidden state which for each sentence, it’s just a single vector.\n",
    "- Then, it will need to be passed to a decoder that will walk through the words one by one."
   ]
  },
  {
   "cell_type": "code",
   "execution_count": 170,
   "metadata": {},
   "outputs": [],
   "source": [
    "def create_emb(vecs, itos, em_sz):\n",
    "    \"\"\"\n",
    "    Creates embedding:\n",
    "    1. rows = number of vocab\n",
    "    2. cols = embedding size dimension\n",
    "    \n",
    "    Will randomly initialize the embedding\n",
    "    \"\"\"\n",
    "    emb = nn.Embedding(len(itos), em_sz, padding_idx=1)\n",
    "    wgts = emb.weight.data\n",
    "    miss = []\n",
    "    \n",
    "    # goes through the embedding and replace\n",
    "    # the initialized weights with existing word vectors\n",
    "    # multiply x3 to compensate for the stdev 0.3\n",
    "    for i, w in enumerate(itos):\n",
    "        try:\n",
    "            wgts[i] = torch.from_numpy(vecs[w] * 3)\n",
    "        except:\n",
    "            miss.append(w)\n",
    "    print(len(miss), miss[5:10])\n",
    "    return emb"
   ]
  },
  {
   "cell_type": "code",
   "execution_count": 171,
   "metadata": {},
   "outputs": [],
   "source": [
    "nh, nl = 256, 2"
   ]
  },
  {
   "cell_type": "code",
   "execution_count": 172,
   "metadata": {},
   "outputs": [],
   "source": [
    "class Seq2SeqRNN(nn.Module):\n",
    "    def __init__(self, vecs_enc, itos_enc, em_sz_enc, vecs_dec, itos_dec, em_sz_dec, nh, out_sl, nl=2):\n",
    "        super().__init__()\n",
    "        \n",
    "        # encoder (enc)\n",
    "        self.nl, self.nh, self.out_sl = nl, nh, out_sl\n",
    "        \n",
    "        # for each word, pull up the 300M vector and create an embedding\n",
    "        self.emb_enc = create_emb(vecs_enc, itos_enc, em_sz_enc)\n",
    "        self.emb_enc_drop = nn.Dropout(0.15)\n",
    "        \n",
    "        # GRU - similiar to LSTM\n",
    "        self.gru_enc = nn.GRU(em_sz_enc, nh, num_layers=nl, dropout=0.25)\n",
    "        self.out_enc = nn.Linear(nh, em_sz_dec, bias=False)\n",
    "        \n",
    "        # decoder (dec)\n",
    "        self.emb_dec = create_emb(vecs_dec, itos_dec, em_sz_dec)\n",
    "        self.gru_dec = nn.GRU(em_sz_dec, em_sz_dec, num_layers=nl, dropout=0.1)\n",
    "        self.out_drop = nn.Dropout(0.35)\n",
    "        self.out = nn.Linear(em_sz_dec, len(itos_dec))\n",
    "        self.out.weight.data = self.emb_dec.weight.data\n",
    "        \n",
    "    def forward(self, inp):\n",
    "        sl, bs = inp.size()\n",
    "\n",
    "        # ==================================================\n",
    "        # Encoder version\n",
    "        # ==================================================\n",
    "        \n",
    "        # initialize the hidden layer\n",
    "        h = self.initHidden(bs)\n",
    "        \n",
    "        # run the input through our embeddings + apply dropout\n",
    "        emb = self.emb_enc_drop(self.emb_enc(inp))\n",
    "        \n",
    "        # run it through the RNN layer\n",
    "        enc_out, h = self.gru_enc(emb, h)\n",
    "        \n",
    "        # run the hidden state through our linear layer\n",
    "        h = self.out_enc(h)\n",
    "        \n",
    "        # ==================================================\n",
    "        # Decoder version\n",
    "        # ==================================================\n",
    "        \n",
    "        # starting with a 0 (or beginning of string _BOS_)\n",
    "        dec_inp = V(torch.zeros(bs).long())\n",
    "        res = []\n",
    "        \n",
    "        # will loop as long as the longest english sentence\n",
    "        for i in range(self.out_sl):\n",
    "            \n",
    "            # embedding - we are only looking at a section at time\n",
    "            # which is why the .unsqueeze is required\n",
    "            emb = self.emb_dec(dec_inp).unsqueeze(0)\n",
    "            \n",
    "            # rnn - typically works with whole phrases, but we passing\n",
    "            # only 1 unit at a time in a loop\n",
    "            outp, h = self.gru_dec(emb, h)\n",
    "            \n",
    "            # dropout\n",
    "            outp = self.out(self.out_drop(outp[0]))\n",
    "            \n",
    "            res.append(outp)\n",
    "            \n",
    "            # highest probability word\n",
    "            dec_inp = V(outp.data.max(1)[1])\n",
    "            \n",
    "            # if its padding ,we are at the end of the sentence\n",
    "            if (dec_inp == 1).all():\n",
    "                break\n",
    "\n",
    "        # stack the output into a single tensor\n",
    "        return torch.stack(res)\n",
    "\n",
    "    def initHidden(self, bs):\n",
    "        return V(torch.zeros(self.nl, bs, self.nh))\n",
    "        "
   ]
  },
  {
   "cell_type": "code",
   "execution_count": 173,
   "metadata": {},
   "outputs": [],
   "source": [
    "def seq2seq_loss(input, target):\n",
    "    \"\"\"\n",
    "    Loss function - modified version of cross entropy\n",
    "    \"\"\"\n",
    "    sl, bs = target.size()\n",
    "    sl_in, bs_in, nc = input.size()\n",
    "    \n",
    "    # sequence length could be shorter than the original\n",
    "    # need to add padding to even out the size\n",
    "    if sl > sl_in:\n",
    "        input = F.pad(input, (0, 0, 0, 0, 0, sl - sl_in))\n",
    "    input = input[:sl]\n",
    "    return F.cross_entropy(input.view(-1, nc), target.view(-1))#, ignore_index=1)"
   ]
  },
  {
   "cell_type": "code",
   "execution_count": 174,
   "metadata": {},
   "outputs": [],
   "source": [
    "opt_fn = partial(optim.Adam, betas=(0.8, 0.99))"
   ]
  },
  {
   "cell_type": "code",
   "execution_count": 175,
   "metadata": {},
   "outputs": [
    {
     "name": "stdout",
     "output_type": "stream",
     "text": [
      "3097 ['l’', \"d'\", 't_up', 'd’', \"qu'\"]\n",
      "1285 [\"'s\", '’s', \"n't\", 'n’t', ':']\n"
     ]
    }
   ],
   "source": [
    "rnn = Seq2SeqRNN(fr_vecd, fr_itos, dim_fr_vec, en_vecd, en_itos, dim_en_vec, nh, enlen_90)\n",
    "learn = RNN_Learner(md, SingleModel(to_gpu(rnn)), opt_fn=opt_fn)\n",
    "learn.crit = seq2seq_loss"
   ]
  },
  {
   "cell_type": "code",
   "execution_count": 176,
   "metadata": {},
   "outputs": [
    {
     "data": {
      "application/vnd.jupyter.widget-view+json": {
       "model_id": "6e45ba3d891a43c8bc1cb451c9afa881",
       "version_major": 2,
       "version_minor": 0
      },
      "text/plain": [
       "HBox(children=(IntProgress(value=0, description='Epoch', max=1), HTML(value='')))"
      ]
     },
     "metadata": {},
     "output_type": "display_data"
    },
    {
     "name": "stdout",
     "output_type": "stream",
     "text": [
      " 65%|██████▍   | 235/362 [01:11<00:38,  3.28it/s, loss=29.5]"
     ]
    },
    {
     "data": {
      "image/png": "[encoded data removed]",
      "text/plain": [
       "<Figure size 432x288 with 1 Axes>"
      ]
     },
     "metadata": {},
     "output_type": "display_data"
    }
   ],
   "source": [
    "# Find the learning rate\n",
    "learn.lr_find()\n",
    "learn.sched.plot()"
   ]
  },
  {
   "cell_type": "markdown",
   "metadata": {},
   "source": [
    "**Fit the model (15-20 mins to train)**"
   ]
  },
  {
   "cell_type": "code",
   "execution_count": 177,
   "metadata": {},
   "outputs": [],
   "source": [
    "lr = 3e-3"
   ]
  },
  {
   "cell_type": "code",
   "execution_count": 178,
   "metadata": {},
   "outputs": [
    {
     "data": {
      "application/vnd.jupyter.widget-view+json": {
       "model_id": "fa19dcfa8db64e78baf878c7ba7fdada",
       "version_major": 2,
       "version_minor": 0
      },
      "text/plain": [
       "HBox(children=(IntProgress(value=0, description='Epoch', max=12), HTML(value='')))"
      ]
     },
     "metadata": {},
     "output_type": "display_data"
    },
    {
     "name": "stdout",
     "output_type": "stream",
     "text": [
      "epoch      trn_loss   val_loss                              \n",
      "    0      5.209042   5.980303  \n",
      "    1      4.513244   4.566818                              \n",
      "    2      4.056711   4.515142                              \n",
      "    3      3.775803   4.026515                              \n",
      "    4      3.595237   3.857968                              \n",
      "    5      3.519258   3.773164                              \n",
      "    6      3.160189   3.705156                              \n",
      "    7      3.108818   3.66531                               \n",
      "    8      3.142783   3.613333                              \n",
      "    9      3.192778   3.680305                              \n",
      "    10     2.844773   3.637095                              \n",
      "    11     2.857365   3.5963                                \n"
     ]
    },
    {
     "data": {
      "text/plain": [
       "[array([3.5963])]"
      ]
     },
     "execution_count": 178,
     "metadata": {},
     "output_type": "execute_result"
    }
   ],
   "source": [
    "learn.fit(lr, 1, cycle_len=12, use_clr=(20, 10))"
   ]
  },
  {
   "cell_type": "code",
   "execution_count": null,
   "metadata": {},
   "outputs": [],
   "source": []
  },
  {
   "cell_type": "code",
   "execution_count": null,
   "metadata": {},
   "outputs": [],
   "source": []
  },
  {
   "cell_type": "code",
   "execution_count": null,
   "metadata": {},
   "outputs": [],
   "source": []
  },
  {
   "cell_type": "code",
   "execution_count": null,
   "metadata": {},
   "outputs": [],
   "source": []
  },
  {
   "cell_type": "code",
   "execution_count": null,
   "metadata": {},
   "outputs": [],
   "source": []
  },
  {
   "cell_type": "code",
   "execution_count": null,
   "metadata": {},
   "outputs": [],
   "source": []
  },
  {
   "cell_type": "code",
   "execution_count": null,
   "metadata": {},
   "outputs": [],
   "source": []
  },
  {
   "cell_type": "code",
   "execution_count": null,
   "metadata": {},
   "outputs": [],
   "source": []
  },
  {
   "cell_type": "code",
   "execution_count": null,
   "metadata": {},
   "outputs": [],
   "source": []
  },
  {
   "cell_type": "code",
   "execution_count": null,
   "metadata": {},
   "outputs": [],
   "source": []
  },
  {
   "cell_type": "code",
   "execution_count": null,
   "metadata": {},
   "outputs": [],
   "source": []
  },
  {
   "cell_type": "code",
   "execution_count": null,
   "metadata": {},
   "outputs": [],
   "source": []
  },
  {
   "cell_type": "code",
   "execution_count": null,
   "metadata": {},
   "outputs": [],
   "source": []
  },
  {
   "cell_type": "code",
   "execution_count": null,
   "metadata": {},
   "outputs": [],
   "source": []
  },
  {
   "cell_type": "code",
   "execution_count": null,
   "metadata": {},
   "outputs": [],
   "source": []
  },
  {
   "cell_type": "code",
   "execution_count": null,
   "metadata": {},
   "outputs": [],
   "source": []
  },
  {
   "cell_type": "code",
   "execution_count": null,
   "metadata": {},
   "outputs": [],
   "source": []
  },
  {
   "cell_type": "code",
   "execution_count": null,
   "metadata": {},
   "outputs": [],
   "source": []
  }
 ],
 "metadata": {
  "kernelspec": {
   "display_name": "Python 3",
   "language": "python",
   "name": "python3"
  },
  "language_info": {
   "codemirror_mode": {
    "name": "ipython",
    "version": 3
   },
   "file_extension": ".py",
   "mimetype": "text/x-python",
   "name": "python",
   "nbconvert_exporter": "python",
   "pygments_lexer": "ipython3",
   "version": "3.6.5"
  }
 },
 "nbformat": 4,
 "nbformat_minor": 2
}
